{
    "cells": [
        {
            "cell_type": "code",
            "execution_count": 12,
            "id": "f1a9eb90-335c-4214-8bb6-fd1edbe3ccbd",
            "metadata": {},
            "outputs": [],
            "source": [
                "# My OpenAI Key\n",
                "import os\n",
                "os.environ['OPENAI_API_KEY'] = \"sk-\""
            ]
        },
        {
            "cell_type": "code",
            "execution_count": 13,
            "id": "6a712b56",
            "metadata": {},
            "outputs": [],
            "source": [
                "import logging\n",
                "import sys\n",
                "\n",
                "logging.basicConfig(stream=sys.stdout, level=logging.INFO)\n",
                "logging.getLogger().addHandler(logging.StreamHandler(stream=sys.stdout))"
            ]
        },
        {
            "cell_type": "markdown",
            "id": "be3f7baa-1c0a-430b-981b-83ddca9e71f2",
            "metadata": {
                "tags": []
            },
            "source": [
                "## Using GPT Tree Index"
            ]
        },
        {
            "cell_type": "markdown",
            "id": "0881f151-279e-4910-95c7-f49d3d6a4c69",
            "metadata": {},
            "source": [
                "#### [Demo] Default leaf traversal "
            ]
        },
        {
            "cell_type": "code",
            "execution_count": 14,
            "id": "8d0b2364-4806-4656-81e7-3f6e4b910b5b",
            "metadata": {},
            "outputs": [],
            "source": [
                "from llama_index import GPTTreeIndex, SimpleDirectoryReader\n",
                "from IPython.display import Markdown, display"
            ]
        },
        {
            "cell_type": "code",
            "execution_count": 15,
            "id": "034b9848",
            "metadata": {},
            "outputs": [
                {
                    "data": {
                        "text/plain": [
                            "[Document(text=\"\\n\\n\\n\\n\\n\\n\\n\\n\\n\\n\\n\\n\\n\\nTo Viceroy | Selected Letters | The Selected Works of Mahatma Gandhi\\n\\n\\n\\n\\n\\n\\n\\n\\n\\n\\n\\n\\n\\n\\n\\n\\n\\nMenu\\n\\n\\n\\nHome\\nAbout Us\\nGandhi eBooks\\nBuy Books\\nFeedback\\nSitemap\\nContact Us\\n\\n\\n\\n\\n\\nSubmit\\n\\n\\n\\n\\n\\n\\n\\n\\nHome\\nThe Selected Works of Mahatma Gandhi (Vol. IV)\\nSelected Letters (Complete Book Online)\\nSECTION ONE : SELECTED LETTERS\\nTo Viceroy\\n\\n\\nBack\\n\\n\\nNext\\n\\n\\n62. To Viceroy\\nSatyagraha Ashram,\\nSabarmati,\\nMarch 2, 1930\\nDEAR FRIEND,\\nBefore embarking on civil disobedience, and taking the risk I have \\ndreaded to take all these years, I would fain approach you and find \\na way out.\\nMy personal faith is absolutely clear. I cannot intentionally hurt \\nanything that lives, much less fellow human beings, even though they \\nmay do the greatest wrong to me and mine. Whilst, therefore, I hold \\nthe British rule to be a curse, I do not intend any harm to a single \\nEnglishman, or to any legitimate interest, he may have in India.\\nI must not be misunderstood. Though I hold the British rule in India \\nto be a curse, I do not, therefore, consider Englishmen in general, \\nto be worse than any other people on earth. I have the privilege of \\nclaiming many Englishmen as dearest friends. Indeed much that I have \\nlearnt of the evil of the British rule is due to the writings of frank \\nand courageous Englishmen, who have not hesitated to tell the unpalatable \\ntruth about that rule.\\nAnd why do I regard the British rule as a curse?\\nIt has impoverished the dumb millions by a system of progressive exploitation, \\nand by a ruinously expensive military and civil administration which \\nthe country can never afford.\\nIt has reduced us politically to serfdom. It has sapped the foundations \\nof our culture. And, by the policy of cruel disarmament, it has degraded \\nus spiritually.\\nLacking the inward strength, we have been reduced, by all but universal \\ndisarmament, to a state bordering on cowardly helplessness.\\nIn common with many of my countrymen, I had hugged the fond hope that \\nthe proposed Round Table Conference might furnish a solution. But \\nwhen you said plainly that you could not give any assurance that you \\nor the British Cabinet would pledge yourselves to support a scheme \\nof full dominion status, the Round Table Conference could not possibly \\nfurnish the solution for which vocal India is consciously, and the \\ndumb millions are unconsciously, thirsting. Needless to say, there \\nnever was any question of Parliament's verdict being anticipated. \\nInstances are not wanting of the British Cabinet, in anticipation \\nof the parliamentary verdict, having itself pledged to a particular \\npolicy.\\nThe Delhi interview having miscarried, there was no option for Pandit \\nMotilal Nehru and me, but to take steps, to carry out the solemn resolution \\nof the Congress arrived at in Calcutta at its session in 1928.\\nBut the resolution of independence should cause no alarm, if the word \\ndominion status mentioned in your announcement had been used in its \\naccepted sense. For, has it not been admitted by the responsible British \\nstatesmen, that dominion status is virtual indepen¬dence? What, \\nhowever, I fear is that there never has been any intention of granting \\nsuch dominion status to India, in the immediate future.\\nBut this is past history. Since the announcement many events have \\nhappened which show unmistakably the trend of British policy.\\nIt seems as clear as daylight that responsible British statesmen do \\nnot contemplate any alteration in British policy, that might adversely \\naffect Britain's commerce with India, or require a close and impartial \\nscrutiny of Britain's transactions with India. If nothing- is done \\nto end the process of exploitation, India must be bled with an ever \\nincreasing speed. The Finance Member regards as a settled fact the \\nratio which by a stroke of the pen drains India of a few crores. And \\nwhen a serious attempt is being made through a civil form of direct \\naction, to unsettle this fact, among many others, even you cannot \\nhelp appealing to the wealthy landed classes, to help you to crush \\nthat attempt, in the name of an order that grinds India to atoms.\\nUnless those who work in the name of the nation understand and keep \\nbefore all concerned, the motive that lies behind this craving for \\nindependence, there is every danger of independence itself coming \\nto us so charged as to be of no value to those toiling voiceless millions, \\nfor whom it is sought, and for whom it is worth taking. It is for \\nthat reason, that I have been recently telling the public what independence \\nshould really mean.\\nLet me put before you some of the salient points.\\nThe terrific pressure of land revenue, which furnishes a large part \\nof the total, must undergo a considerable modification, in an independent \\nIndia. Even the much vaunted permanent settlement benefits few rich \\nzamindars, not the ryots. The ryot has remained as helpless as ever. \\nHe is a mere tenant at will. Not only, then, has land revenue to be \\nconsiderably reduced, but the whole revenue system has to be so revised, \\nas to make the ryot's good its primary concern. But the British system \\nseems to be designed to crush the very life out of him. Even the salt \\nhe must use to live is so taxed as to make the burden fall heaviest \\non him, if only because of the heartless impartiality of its incidence. \\nThe tax shows itself more burdensome on the poor man; when it is remembered \\nthat salt is the one thing he must eat more than the rich, both individually \\nand collectively. The drink and drug revenue, too, is derived from \\nthe poor. It saps the foundations both of their health and morals. \\nIt is defended under the false plea of individual freedom, but, in \\nreality, is maintained for its own sake. The ingenuity of the authors \\nof the reforms of 1919 transferred this revenue to the so-called responsible \\npart of dyarchy, so as to throw the burden of prohibition on it, thus, \\nfrom the very beginning, rendering it powerless for good. If the unhappy \\nMinister wipes out this revenue he must starve education, since in \\nthe existing circumstances he has no new source of replacing that \\nrevenue. If the weight of taxation has crushed the poor from above, \\nthe destruction of the central supplementary industry, that is, hand-spinning, \\nhas undermined their capacity for producing wealth. The tale of India's \\nruination is not complete without reference to the liabilities incurred \\nin her name. Sufficient has been recently said about these in the \\npublic press. It must be the duty of a free India to subject all the \\nliabilities to the strictest investigation, and repudiate those that \\nmay be adjudged by an impartial tribunal to be unjust and unfair.\\nThe iniquities sampled above are maintained in order to carry on a \\nforeign administration, demonstrably the most expensive in the world. \\nTake your own salary. It is over Rs. 21,000 per month besides many \\nother indirect additions. The British Prime Minister gets £ \\n5,000 per year, that is, Rs. 5,400/- per month, at the present rate \\nof exchange. You are getting over Rs. 700 per day, against India's \\naverage income of less than two annas per day. The Prime Minister \\ngets Rs. 180 per day, against Great Britain's average income of nearly \\nRs. 2 per day. Thus you are getting much over five thousand times \\nIndia's average income. The British Prime Minister is getting only \\nninety times Britain's average income. On bended knee I ask you to \\nponder over this phenomenon. I have taken a personal illustration \\nto drive home a painful truth. I have too great a regard for you as \\na man to wish to hurt your feelings. I know that you do not need the \\nsalary you get. But a system that provides for such an arrangement \\ndeserves to be summarily scrapped. What is true of the Viceregal salary \\nis true generally of the whole administration.\\nA radical cutting down of the revenue, therefore, depends upon an \\nequally radical reduction in the ex¬penses of the administration. \\nThis means a transforma¬tion of the scheme of government. This \\ntransformation is impossible without independence. And hence the spontaneous \\ndemonstration of 26th January, in which hundreds of thousands of villagers \\ninstinctively partici¬pated. To them independence means deliverance \\nfrom the killing weight.\\nNot one of the great British political parties, it seems to me, is \\nprepared to give up the Indian spoils to which Great Britain helps \\nherself from day to day, often, in spite of the unanimous opposition \\nof Indian opinion.\\nNevertheless, if India is to live as a nation, if the slow death by \\nstarvation of her people is to stop, some remedy must be found for \\nimmediate relief. The proposed conference is certainly not the remedy. \\nIt is not a matter of carrying conviction by argument. The matter \\nresolves itself into one of matching forces. Conviction or no conviction, \\nGreat Britain would defend her Indian commerce and interests by all \\nthe forces at her command. India must consequently evolve force enough \\nto free herself from that embrace of death.\\nIt is common cause that, however disorganized, and, for the time being, \\ninsignificant, it may be, the party of violence is gaining ground \\nand making itself felt. Its end is the same as mine. But I am convinced \\nthat it cannot bring the desired relief to the dumb millions. The \\nconviction is growing deeper and deeper in me that nothing but unadulterated \\nnon-violence can check the organized violence of the British Government. \\nMany think that non-violence is not an active force. My experience, \\nlimited though it surely is, shows that non-violence can be an intensely \\nactive force. It is my purpose to set in motion that force as well \\nagainst the organized violent force of the British rule, as the unorganized \\nviolent force of the growing party of violence. To sit still would \\nbe to give rein to both the forces above-mentioned. Having an unquestioning \\nand immovable faith in the efficacy of non-violence, as I know it, \\nit would be sinful on my part to wait any longer.\\nThis non-violence will be expressed through civil disobedience, for \\nthe moment confined to the inmates of the Satyagraha Ashram, but ultimately \\ndesigned to cover all those who choose to join the movement with its \\nobvious limitations.\\nI know that in embarking on non-violence, I shall be running what \\nmight fairly be termed a mad risk. But the victories of truth have \\nnever been won without risks, often of the gravest character. Conversion \\nof a nation that has consciously or unconsciously preyed upon another, \\nfar more numerous, far more ancient, and no less cultured than itself, \\nis worth any amount of risk.\\nI have deliberately used the word conversion. For my ambition is no \\nless than to convert the British people through non-violence, and \\nthus to make them see the wrong they have done to India. I do not \\nseek to harm your people. I want to serve them even as I want to serve \\nmy own. I believe that I have always served them.\\nI served them up to 1919, blindly. But when my eyes were opened and \\nI conceived non-co-operation, the object still was to serve them. \\nI employed the same weapon that I have, in all humility, successfully \\nused against the dearest members of my family. If I have equal love \\nfor your people with mine, it will not long remain hidden. It will \\nbe acknowledged by them, even as the members of my family acknowledged, \\nafter they had tried me for several years. If the people join me, \\nas I expect they will, the sufferings they will undergo, unless the \\nBritish nation sooner retraces its steps, will be enough to melt the \\nstoniest hearts.\\nThe plan through civil disobedience will be to combat such evils as \\nI have sampled out. If we want to sever the British connection it \\nis because of such evils. When they are removed, the path becomes \\neasy. Then the way to friendly negotiation will be open. If the British \\ncommerce with India is purified of greed, you will have no difficulty \\nin recognizing our independence. I invite you then to pave the way \\nfor immediate removal of those evils, and thus open a way for a real \\nconference between equals, interested only in promoting the common \\ngood of mankind through voluntary fellowship and in arranging terms \\nof mutual help and commerce equally suited to both. You have unnecessarily \\nlaid stress upon communal problems that unhappily affect this land. \\nImportant though they undoubtedly are for the consideration of any \\nscheme of Government they have little bearing on the greater problems \\nwhich are above communities and which affect them all equally. But \\nif you cannot see your way to deal with these evils and my letter \\nmakes no appeal to your heart, on the eleventh day of this month, \\nI shall proceed with such co-workers of the Ashram as I can take, \\nto disregard the provisions of the salt laws. I regard this tax to \\nbe the most iniquitous of all from the poor man's standpoint. As the \\nindependence movement is essentially for the poorest in the land, \\nthe beginning will be made with this evil. The wonder is that we have \\nsubmitted to the cruel monopoly for so long. It is, I know, open to \\nyou to frustrate my design by arresting me. I hope that there will \\nbe tens of thousands ready, in a disciplined manner, to take up the \\nwork after me, and, in the act of disobeying the Salt Act, to lay \\nthemselves open to the penalties of a law that should never have disfigured \\nthe statute book.\\nI have no desire to cause you unnecessary embar¬rassment, or any \\nat all, so far as I can help. If you think that there is any substance \\nin my letter, and if you will care to discuss matters with me, and \\nif to that end you would like me to postpone publication of this letter, \\nI shall gladly refrain on receipt of a telegram to that effect soon \\nafter this reaches you. You will, however, do me the favour not to \\ndeflect me from my course, unless you can see your way to conform \\nto the substance of this letter.\\nThis letter is not in any way intended as a threat, but is a simple \\nand sacred duty, peremptory on a civil resister. Therefore, I am having \\nit specially delivered by a young English friend who believes in the \\nIndian cause and is a full believer in non-violence and whom Provi¬dence \\nseems to have sent to me, as it were, for the very purpose.\\nI remain,\\nYour sincere friend,\\nM.K. Gandhi\\nMahatma, Vol. III, pp. 18-23\\n\\n1\\tLord Irwin\\n\\n\\n\\n\\n\\n\\n\\nComprehensive Gandhi website by Gandhian Institutions : Bombay Sarvodaya Mandal & \\nGandhi Research Foundation\\n\\n\\n\\n\\n\\n\\n\\n\\n\", doc_id='caf0d85e-a228-47c4-a89f-7d5e4cf62224', embedding=None, doc_hash='f09ddc2323ddc5708d4efb49fb77ec9d8697b61a86b9d0eb6b2ef110123f5c8c', extra_info={'URL': 'https://www.mkgandhi.org/selectedletters/62viceroy.html'})]"
                        ]
                    },
                    "execution_count": 15,
                    "metadata": {},
                    "output_type": "execute_result"
                }
            ],
            "source": [
                "from llama_index import download_loader\n",
                "\n",
                "BeautifulSoupWebReader = download_loader(\"BeautifulSoupWebReader\")\n",
                "\n",
                "loader = BeautifulSoupWebReader()\n",
                "documents = loader.load_data(urls=['https://www.mkgandhi.org/selectedletters/62viceroy.html'])\n",
                "documents"
            ]
        },
        {
            "cell_type": "code",
            "execution_count": 16,
            "id": "370fd08f-56ff-4c24-b0c4-c93116a6d482",
            "metadata": {
                "tags": []
            },
            "outputs": [
                {
                    "name": "stdout",
                    "output_type": "stream",
                    "text": [
                        "INFO:llama_index.token_counter.token_counter:> [build_index_from_nodes] Total LLM token usage: 0 tokens\n",
                        "> [build_index_from_nodes] Total LLM token usage: 0 tokens\n",
                        "> [build_index_from_nodes] Total LLM token usage: 0 tokens\n",
                        "INFO:llama_index.token_counter.token_counter:> [build_index_from_nodes] Total embedding token usage: 0 tokens\n",
                        "> [build_index_from_nodes] Total embedding token usage: 0 tokens\n",
                        "> [build_index_from_nodes] Total embedding token usage: 0 tokens\n"
                    ]
                },
                {
                    "data": {
                        "text/plain": [
                            "<llama_index.indices.tree.base.GPTTreeIndex at 0x7f8cc1d268c0>"
                        ]
                    },
                    "execution_count": 16,
                    "metadata": {},
                    "output_type": "execute_result"
                }
            ],
            "source": [
                "new_index = GPTTreeIndex.from_documents(documents)\n",
                "new_index"
            ]
        },
        {
            "cell_type": "code",
            "execution_count": 17,
            "id": "bd14686d-1c53-4637-9340-3745f2121ae2",
            "metadata": {},
            "outputs": [
                {
                    "name": "stdout",
                    "output_type": "stream",
                    "text": [
                        "INFO:llama_index.indices.tree.select_leaf_retriever:>[Level 0] Selected node: [2]/[2]\n",
                        ">[Level 0] Selected node: [2]/[2]\n",
                        ">[Level 0] Selected node: [2]/[2]\n",
                        "INFO:llama_index.token_counter.token_counter:> [retrieve] Total LLM token usage: 3303 tokens\n",
                        "> [retrieve] Total LLM token usage: 3303 tokens\n",
                        "> [retrieve] Total LLM token usage: 3303 tokens\n",
                        "INFO:llama_index.token_counter.token_counter:> [retrieve] Total embedding token usage: 0 tokens\n",
                        "> [retrieve] Total embedding token usage: 0 tokens\n",
                        "> [retrieve] Total embedding token usage: 0 tokens\n",
                        "INFO:llama_index.token_counter.token_counter:> [get_response] Total LLM token usage: 1132 tokens\n",
                        "> [get_response] Total LLM token usage: 1132 tokens\n",
                        "> [get_response] Total LLM token usage: 1132 tokens\n",
                        "INFO:llama_index.token_counter.token_counter:> [get_response] Total embedding token usage: 0 tokens\n",
                        "> [get_response] Total embedding token usage: 0 tokens\n",
                        "> [get_response] Total embedding token usage: 0 tokens\n"
                    ]
                }
            ],
            "source": [
                "# set Logging to DEBUG for more detailed outputs\n",
                "query_engine = new_index.as_query_engine()\n",
                "response = query_engine.query(\"Explain gandhis reasoning to the viceroy?\")"
            ]
        },
        {
            "cell_type": "code",
            "execution_count": 18,
            "id": "b4c87d14-d2d8-4d80-89f6-1e5972973528",
            "metadata": {},
            "outputs": [
                {
                    "data": {
                        "text/markdown": [
                            "<b>\n",
                            "Gandhi is arguing to the Viceroy that the British policy of exploiting India must end in order for India to achieve true independence. He points out that the British have not been honest in their intentions to grant India dominion status, and that their policies have been draining India of its resources. He also argues that the land revenue system is designed to crush the poor, and that the drink and drug revenue is maintained for its own sake. He further states that the liabilities incurred in India's name must be subject to strict investigation and any found to be unjust and unfair must be repudiated. Finally, he points out that the foreign administration is the most expensive in the world, and that the Viceroy's own salary is over what it should be.</b>"
                        ],
                        "text/plain": [
                            "<IPython.core.display.Markdown object>"
                        ]
                    },
                    "metadata": {},
                    "output_type": "display_data"
                }
            ],
            "source": [
                "display(Markdown(f\"<b>{response}</b>\"))"
            ]
        }
    ],
    "metadata": {
        "kernelspec": {
            "display_name": "Python 3 (ipykernel)",
            "language": "python",
            "name": "python3"
        },
        "language_info": {
            "codemirror_mode": {
                "name": "ipython",
                "version": 3
            },
            "file_extension": ".py",
            "mimetype": "text/x-python",
            "name": "python",
            "nbconvert_exporter": "python",
            "pygments_lexer": "ipython3",
            "version": "3.10.9"
        }
    },
    "nbformat": 4,
    "nbformat_minor": 5
}
